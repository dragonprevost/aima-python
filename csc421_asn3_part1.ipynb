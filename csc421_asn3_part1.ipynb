{
 "cells": [
  {
   "attachments": {
    "monopoly.jpeg": {
     "image/jpeg": "[encoded data removed]"
    }
   },
   "cell_type": "markdown",
   "metadata": {},
   "source": [
    "# CSC421 Assignment 3 - Part I  Simulation and Probabilities (5 points) #\n",
    "### Author: George Tzanetakis \n",
    "\n",
    "This notebook is based on the supporting material for topics covered in **Chapter 13 Quantifying Uncertainty** from the book *Artificial Intelligence: A Modern Approach.* This part does NOT rely on the provided code so you can complete it just using basic Python. \n",
    "\n",
    "```\n",
    "Misunderstanding of probability may be the greatest of all impediments\n",
    "to scientific literacy.\n",
    "\n",
    "Gould, Stephen Jay\n",
    "```\n",
    "\n",
    "![monopoly.jpeg](attachment:monopoly.jpeg)\n"
   ]
  },
  {
   "cell_type": "markdown",
   "metadata": {},
   "source": [
    "# Introduction - Simulation for approximate estimation of probabilities \n",
    "\n",
    "In this assignment your task is to incrementally create a simulation for the board game Monopoly\n",
    "https://en.wikipedia.org/wiki/Monopoly_(game). Very interesting origin story for the game: \n",
    "https://www.saturdayeveningpost.com/2017/09/really-invented-monopoly/\n",
    "\n",
    "\n",
    "**NOTE THAT THE GRADING IN THIS ASSIGNMENT IS DIFFERENT FOR GRADUATE STUDENTS AND THEY HAVE TO DO EXTRA WORK FOR FULL MARKS**\n",
    "\n",
    "Consider simulating a game of Monopoly. Your goal is to experimentally determine the cummulative probability of landing on each square following the rules of the game after 100 moves. By cummulative I mean the total\n",
    "number of times you land on a square during a play. So for example if you land on the Free Parking square 5 times during the 100 moves in a particular run of the simulation then the probability of landing on that square is 5/100.\n",
    "\n",
    "To get accurate probabilities you will have to run 1000 simulated games. You can assume that you are only a considering a single player and you ignore buying/selling property. You will need to simulate chance cards, rolling the dice including doubles, and going to jail. The following article has some\n",
    "information you can use in your simulation http://www.businessinsider.com/math-monopoly-statistics-2013-6.\n",
    "\n",
    "You can use the random variables and probability notebook code we covered in class or directly implement the random sampling to simulate playing the Monopoly game 1000 times and show on a table what is the probability of landing in each railway station, the GO square, Mediterenean Avenue and Boardwalk. The questions below break this problem into incremental steps. \n"
   ]
  },
  {
   "cell_type": "markdown",
   "metadata": {},
   "source": [
    "# Question 1A (Minimum) CSC421 -  (1 point, CSC581C - 0 points) \n",
    "\n",
    "Write code to generate random numbers corresponding to rolling a pair of dice and summing the output taking into account the doubling rule (when you roll doubles you get to roll again). Include all the code with comments describing what you are doing. "
   ]
  },
  {
   "cell_type": "code",
   "execution_count": null,
   "metadata": {},
   "outputs": [],
   "source": [
    "from scipy import stats\n",
    "import numpy as np \n",
    "import random"
   ]
  },
  {
   "cell_type": "code",
   "execution_count": null,
   "metadata": {},
   "outputs": [],
   "source": [
    "'''\n",
    "Taken from mining_random_variables notebook. CSC421, March 2020\n",
    "'''\n",
    "class Random_Variable: \n",
    "    \n",
    "    def __init__(self, name, values, probability_distribution): \n",
    "        self.name = name \n",
    "        self.values = values \n",
    "        self.probability_distribution = probability_distribution \n",
    "        if all(type(item) is np.int64 for item in values): \n",
    "            self.type = 'numeric'\n",
    "            self.rv = stats.rv_discrete(name = name, values = (values, probability_distribution))\n",
    "        elif all(type(item) is str for item in values): \n",
    "            self.type = 'symbolic'\n",
    "            self.rv = stats.rv_discrete(name = name, values = (np.arange(len(values)), probability_distribution))\n",
    "            self.symbolic_values = values \n",
    "        else: \n",
    "            self.type = 'undefined'\n",
    "    \n",
    "    def sample(self,size): \n",
    "        if (self.type =='numeric'): \n",
    "            return self.rv.rvs(size=size)\n",
    "        elif (self.type == 'symbolic'): \n",
    "            numeric_samples = self.rv.rvs(size=size)\n",
    "            mapped_samples = [self.values[x] for x in numeric_samples]\n",
    "            return mapped_samples "
   ]
  },
  {
   "cell_type": "code",
   "execution_count": null,
   "metadata": {},
   "outputs": [],
   "source": [
    "class Die():\n",
    "    def __init__(self):\n",
    "        self._value = 0\n",
    "        \n",
    "    def roll(self):\n",
    "        r = random.randrange(1,7)\n",
    "        self._value = r\n",
    "        return r\n",
    "    \n",
    "    def value(self):\n",
    "        return self._value\n",
    "\n",
    "# YOUR CODE GOES HERE \n",
    "def conduct_roll():\n",
    "    sum = 0\n",
    "    roll_count = 0\n",
    "    die1 = Die()\n",
    "    die2 = Die()\n",
    "    \n",
    "    while die1.value() == die2.value():\n",
    "        \n",
    "        sum += die1.roll() + die2.roll()\n",
    "        \n",
    "        roll_count += 1\n",
    "        \n",
    "        # if player rolls more than 2 pairs, go to jail\n",
    "        if roll_count > 2:\n",
    "            return -1\n",
    "    return sum\n",
    "\n",
    "print(conduct_roll())"
   ]
  },
  {
   "cell_type": "markdown",
   "metadata": {},
   "source": [
    "# Question 1B (Minimum) (CSC421 - 1 point, CSC581C - 0 point) \n",
    "\n",
    "Write code for selecting a chance card at random based on the information provided in the article about the math of Monopoly. The chance cards that are not about movement will be ignored in this assignment but you should still \n",
    "simulate them. "
   ]
  },
  {
   "cell_type": "code",
   "execution_count": null,
   "metadata": {
    "scrolled": true
   },
   "outputs": [],
   "source": [
    "# YOUR CODE GOES HERE \n",
    "chance_cards = [\"advance:0\",\n",
    "         \"advance:illinois\",\n",
    "         \"advance:st.charles\", \n",
    "         \"advance:utitlity\", \n",
    "         \"advance:railroad\",\n",
    "         \"bank_pays_you_50\",\n",
    "         \"get_out_of_jail_free\",\n",
    "         \"back:3\",\n",
    "         \"advance:jail\",\n",
    "         \"repair_fee\",\n",
    "         \"poor_tax_fee\",\n",
    "         \"advance:reading_railroad\",\n",
    "         \"advance:boardwalk\",\n",
    "         \"fee:50\",\n",
    "         \"collect:150\",\n",
    "         \"collect:100\"]\n",
    "\n",
    "class Deck():\n",
    "    \n",
    "    def __init__(self, cards):\n",
    "        random.shuffle(cards)\n",
    "        self._cards = cards\n",
    "        self._discards = []\n",
    "        \n",
    "    def  draw(self):\n",
    "        # TODO \n",
    "        # Check if deck is empty, \n",
    "        # re-shuffle the discard pile\n",
    "        card = self._cards[0]\n",
    "        self._cards.pop(0)\n",
    "        self._discards.append(card)\n",
    "        return card\n",
    "    \n",
    "deck = Deck(chance_cards)\n",
    "\n",
    "print(deck.draw())\n"
   ]
  },
  {
   "cell_type": "markdown",
   "metadata": {},
   "source": [
    "# Question 1C (Expected) 1 point \n",
    "\n",
    "Write code to simulate movement around the board for one player with rolling pair of dice as well as the doubling rule. For this question you don't need to simulate go to jail and chance cards (you will do that in the next question) \n"
   ]
  },
  {
   "cell_type": "code",
   "execution_count": null,
   "metadata": {
    "scrolled": true
   },
   "outputs": [],
   "source": [
    "encoding = {\n",
    "    0: \"GO\",\n",
    "    5: \"RAILROAD1\",\n",
    "    7: \"CHANCE\",\n",
    "    10: \"JAIL\",\n",
    "    15: \"RAILROAD2\",\n",
    "    20: \"PARKING\",\n",
    "    22: \"CHANCE\",\n",
    "    25: \"RAILRAOD3\",\n",
    "    30: \"GOTOJAIL\",\n",
    "    35: \"RAILROAD4\",\n",
    "    36: \"CHANCE\"\n",
    "    \n",
    "}\n",
    "class Board():\n",
    "    \n",
    "    def __init__(self):\n",
    "        self._players = []\n",
    "        self._chance_deck = Deck(chance_cards)\n",
    "        \n",
    "    def add_player(self, player):\n",
    "        self._players.append(player)\n",
    "        \n",
    "    def get_player_positions(self): \n",
    "        positions = []\n",
    "        for player in self._players:\n",
    "            positions.append({\n",
    "                \"name\": player.name,\n",
    "                \"position\": player.get_position()\n",
    "            })\n",
    "            \n",
    "        return positions\n",
    "    \n",
    "# YOUR CODE GOES HERE \n",
    "class Player():\n",
    "    \n",
    "    def __init__(self, name=\"default_name\"):\n",
    "        self._position = 0\n",
    "        self.name = name\n",
    "        self._in_jail = False\n",
    "        \n",
    "    def conduct_turn(self):\n",
    "        # Make roll\n",
    "        roll_value = conduct_roll()\n",
    "        if roll_value == -1:\n",
    "            # Go to jail\n",
    "            self._in_jail = True\n",
    "            return\n",
    "            \n",
    "        # move to position\n",
    "        self._position = (self._position + roll_value) % 40\n",
    "        \n",
    "        # \n",
    "        \n",
    "    def get_position(self):\n",
    "        return self._position\n",
    "\n",
    "board = Board()\n",
    "alice = Player(\"alice\")\n",
    "board.add_player(alice)\n",
    "\n",
    "for _ in range(20):\n",
    "    alice.conduct_turn()\n",
    "    print(board.get_player_positions())"
   ]
  },
  {
   "cell_type": "markdown",
   "metadata": {},
   "source": [
    "# QUESTION 1D (EXPECTED) 1 point"
   ]
  },
  {
   "cell_type": "markdown",
   "metadata": {},
   "source": [
    "Add the code for go to jail and chance cards. Record how many times you land on\n",
    "each square after playing a game consisting of 100 moves. Run the simulation 1000 times \n",
    "and average the landing results. Show in a table the following probabilities: each railway station, the GO square, Mediterenean Avenue and Boardwalk.\n",
    "\n"
   ]
  },
  {
   "cell_type": "code",
   "execution_count": null,
   "metadata": {},
   "outputs": [],
   "source": []
  },
  {
   "cell_type": "markdown",
   "metadata": {},
   "source": [
    "# QUESTION 1E (ADVANCED) 1 point \n",
    "\n",
    "Write code that visualizes the board and associated probabilities in color using some kind of colormap. You can use any Python library for handling this. Some possibilities with different tradeoffs include ipythonblocks, bokeh, and PyGame. "
   ]
  },
  {
   "cell_type": "code",
   "execution_count": null,
   "metadata": {},
   "outputs": [],
   "source": [
    "# YOUR CODE GOES HERE \n"
   ]
  },
  {
   "cell_type": "markdown",
   "metadata": {},
   "source": [
    "# QUESTION 1F (ADVANCED) (CSC421 - 0 points, CSC581C - 2 points)\n",
    "\n",
    "Implement code for handling the money aspect of monopoly and extend your simulation to handle multi-player playing by creating a very simple buying/selling AI for example randomly selecting one or the other action. \n",
    "You shoud be able to step through a fully simulated Game of Monopoly and see how everything is working. You can ignore building and assume that when a player lands in a property square they can purchase it at a predefined price and after they purchase it anyone who lands on that square pays a fixed fee. Also no need to simulate getting properties of the same color. \n",
    "\n",
    "Of course if you feel ambitious and want to do a full simulation of the actual game that's perfectly fine and \n",
    "you will not be penalized for the extra features. \n",
    "\n"
   ]
  },
  {
   "cell_type": "code",
   "execution_count": null,
   "metadata": {},
   "outputs": [],
   "source": [
    "# YOUR CODE GOES HERE "
   ]
  }
 ],
 "metadata": {
  "kernelspec": {
   "display_name": "Python 3",
   "language": "python",
   "name": "python3"
  },
  "language_info": {
   "codemirror_mode": {
    "name": "ipython",
    "version": 3
   },
   "file_extension": ".py",
   "mimetype": "text/x-python",
   "name": "python",
   "nbconvert_exporter": "python",
   "pygments_lexer": "ipython3",
   "version": "3.7.6"
  }
 },
 "nbformat": 4,
 "nbformat_minor": 1
}
