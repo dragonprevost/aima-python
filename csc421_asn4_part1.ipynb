{
 "cells": [
  {
   "cell_type": "markdown",
   "metadata": {},
   "source": [
    "# CSC421 Assignment 4 - Part I Discrete Bayesian Networks (5 points) #\n",
    "### Author: George Tzanetakis \n",
    "\n",
    "This notebook is based on the supporting material for topics covered in **Chapter 14 Probabilistic Reasoning** from the book *Artificial Intelligence: A Modern Approach.* \n",
    "\n",
    "This part relies on the provided notebook code probability.ipynb \n",
    "\n",
    "```\n",
    "Misunderstanding of probability may be the greatest of all impediments\n",
    "to scientific literacy.\n",
    "\n",
    "Gould, Stephen Jay\n",
    "```\n",
    "\n"
   ]
  },
  {
   "cell_type": "code",
   "execution_count": null,
   "metadata": {},
   "outputs": [],
   "source": [
    "from probability import *"
   ]
  },
  {
   "cell_type": "markdown",
   "metadata": {},
   "source": [
    "## Introduction \n",
    "\n",
    "In this part of assignment 4 we will be exploring Discrete Bayesian Networks (DBNs) and answering queries with exact and approximate inference methods. We will be using the following network: \n",
    "\n",
    "<img src=\"dispnea.png\">"
   ]
  },
  {
   "cell_type": "markdown",
   "metadata": {},
   "source": [
    "## Question 4.1A (Minimum) CSC421 -  (1 point, CSC581C - 0 points) \n",
    "\n",
    "Using the convetions for DBNs used in probability.ipynb (from the AIMA authors) encode the diapnea network shown above. Once you have constructed the Bayesian network display the cpt for the Lung Cancer Node (using the API provided not just showing the numbers). \n"
   ]
  },
  {
   "cell_type": "code",
   "execution_count": null,
   "metadata": {},
   "outputs": [],
   "source": [
    "# YOUR CODE GOES HERE \n",
    "# level 1\n",
    "net = BayesNet([\n",
    "    (\"VisitAsia\", \"\", 0.01),\n",
    "    (\"Smoker\", \"\", 0.5),\n",
    "    (\"TB\", \"VisitAsia\", {True: 0.05, False: 0.01}),\n",
    "    (\"LungCancer\", \"Smoker\", {True: 0.1, False: 0.01}),\n",
    "    (\"Bronchitis\", \"Smoker\", {True: 0.6, False: 0.3 }),\n",
    "    (\"Either\", [\"TB\", \"LungCancer\"], \n",
    "                                {(True, True): 1, \n",
    "                                 (True, False): 1,\n",
    "                                 (False, True): 1, \n",
    "                                 (False, False): 0}),\n",
    "    (\"PositiveXRay\", \"Either\", {True: 0.98, False: 0.05}),\n",
    "    (\"Dyspnea\", [\"Either\", \"Bronchitis\"], \n",
    "                                 {(True, True): 0.9, \n",
    "                                 (True, False): 0.7,\n",
    "                                 (False, True): 0.8, \n",
    "                                 (False, False): 0.1})\n",
    "])\n",
    "\n",
    "print(net.variable_node(\"LungCancer\").cpt)"
   ]
  },
  {
   "cell_type": "markdown",
   "metadata": {},
   "source": [
    "## Question 4.1B (Minimum) (CSC421 - 1 point, CSC581C - 0 point) \n",
    "\n",
    "Answer using exact inference with enumeration the following query: given that a\n",
    "patient has been in Asia and has a positive xray, what is the likelihood of having dyspnea?\n",
    "\n",
    "Write down using markdown the expression that corresponds to this query and the corresponding \n",
    "numbers from the CPT. Calculate the result using a calculator. \n",
    "\n",
    "Write code for the same query using *enumeration_ask* and confirm that the result is the same for the same query. "
   ]
  },
  {
   "cell_type": "markdown",
   "metadata": {},
   "source": [
    "# YOUR MARKDOWN GOES HERE \n",
    "P(D|XRay=true, VisitAsia=True)"
   ]
  },
  {
   "cell_type": "code",
   "execution_count": null,
   "metadata": {
    "scrolled": true
   },
   "outputs": [],
   "source": [
    "%timeit ans_dist = enumeration_ask('Dyspnea', {'PositiveXRay': True, 'VisitAsia': True}, net)\n",
    "print(ans_dist[True])"
   ]
  },
  {
   "cell_type": "markdown",
   "metadata": {},
   "source": [
    "## Question 4.1C (Expected) 1 point \n",
    "\n",
    "Answer using variable elimination i.e the function *elimination_ask*  using the same query. Compare the timing using %%timeit the query using *enumeration_ask* and *eliimination_ask*. "
   ]
  },
  {
   "cell_type": "code",
   "execution_count": null,
   "metadata": {
    "scrolled": true
   },
   "outputs": [],
   "source": [
    "%timeit ans_dist_elim = elimination_ask('Dyspnea', {'PositiveXRay': True, 'VisitAsia': True}, net).show_approx()\n",
    "%timeit ans_dist_enum = enumeration_ask('Dyspnea', {'PositiveXRay': True, 'VisitAsia': True}, net)\n"
   ]
  },
  {
   "cell_type": "markdown",
   "metadata": {},
   "source": [
    "## QUESTION 4.1D (Expected ) 1 point\n",
    "\n",
    "Answer using approximate inference the same query using both rejection sampling and likelihood weighting. Compare the runtime of the two approximate inference algorithms and the two exact inference algorithms for this query. "
   ]
  },
  {
   "cell_type": "code",
   "execution_count": null,
   "metadata": {},
   "outputs": [],
   "source": [
    "p = rejection_sampling('Dyspnea', {'PositiveXRay': True, 'VisitAsia': True}, net, 10000)\n",
    "print(p.show_approx())"
   ]
  },
  {
   "cell_type": "code",
   "execution_count": null,
   "metadata": {},
   "outputs": [],
   "source": [
    "p = likelihood_weighting('Dyspnea', {'PositiveXRay': True, 'VisitAsia': True}, net, 200)\n",
    "print(p.show_approx())"
   ]
  },
  {
   "cell_type": "markdown",
   "metadata": {},
   "source": [
    "## QUESTION 4.1E (Advanced) 1 point \n",
    "\n",
    "A Naive Bayes classifier can be considered as a Bayesian Network. The classification problem can then be expressed as setting all the variables corresponding to the features as evidence and querying the probability for the class. Express the Bernoulli Naive Bayes classifier you implemented in the previous assignment as a Bayesian Network using the probability.ipynb conventions. Now that you have a DBN express and solve the classification problem as a query and go over all the previous steps for this particular problem. More specifically do exact inference by enumeration, exact inference by variable elimination, approximate inference by rejection sampling and approximate inference by likelihood weighting to answer the query and show the results. "
   ]
  },
  {
   "cell_type": "code",
   "execution_count": null,
   "metadata": {},
   "outputs": [],
   "source": [
    "# YOUR CODE GOES HERE \n"
   ]
  },
  {
   "cell_type": "markdown",
   "metadata": {},
   "source": [
    "## QUESTION 4.1F (ADVANCED) (CSC421 - 0 points, CSC581C - 1 point)\n",
    "\n",
    "This question requires that you have completed the previous question 4.1E. Do a comparison of the 4 inference algorithms on DBNs as well as the standard Bernoulli Naive Bayes classifier you implemented in assignment 3 in terms of two aspects: classification accuracy and run-time. For both classification accuracy and run-time comparison using %%timeit use the training set of positive and negative reviews for testing. "
   ]
  },
  {
   "cell_type": "code",
   "execution_count": null,
   "metadata": {},
   "outputs": [],
   "source": [
    "# YOUR CODE GOES HERE "
   ]
  },
  {
   "cell_type": "markdown",
   "metadata": {},
   "source": [
    "## QUESTION 4.1G (ADVANCED) (CSC421 - 0 points, CSC581C - 1 point)\n",
    "\n",
    "Encode both the Dispnea DBN and the Naive Bayes Network from the previous question as DBNs using the *pgmpy* package for Probablistic Graphical Models in Python. Answer the same queries you did above using variable elimination. \n",
    "\n",
    "http://pgmpy.org/"
   ]
  },
  {
   "cell_type": "code",
   "execution_count": null,
   "metadata": {},
   "outputs": [],
   "source": [
    "# YOUR CODE GOES HERE "
   ]
  }
 ],
 "metadata": {
  "kernelspec": {
   "display_name": "Python 3",
   "language": "python",
   "name": "python3"
  },
  "language_info": {
   "codemirror_mode": {
    "name": "ipython",
    "version": 3
   },
   "file_extension": ".py",
   "mimetype": "text/x-python",
   "name": "python",
   "nbconvert_exporter": "python",
   "pygments_lexer": "ipython3",
   "version": "3.7.6"
  }
 },
 "nbformat": 4,
 "nbformat_minor": 1
}
